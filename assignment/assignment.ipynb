{
  "cells": [
    {
      "cell_type": "markdown",
      "id": "13ad028b-72b7-43ed-aa78-96fd4e518040",
      "metadata": {
        "id": "13ad028b-72b7-43ed-aa78-96fd4e518040"
      },
      "source": [
        "# Assignment: Data Wrangling"
      ]
    },
    {
      "cell_type": "markdown",
      "id": "5735a4d4-8be8-433a-a351-70eb8002e632",
      "metadata": {
        "id": "5735a4d4-8be8-433a-a351-70eb8002e632"
      },
      "source": [
        "**Q1.** Open the \"tidy_data.pdf\" document in the repo, which is a paper called Tidy Data by Hadley Wickham.\n",
        "\n",
        "  1. Read the abstract. What is this paper about?\n",
        "  2. Read the introduction. What is the \"tidy data standard\" intended to accomplish?\n",
        "  3. Read the intro to section 2. What does this sentence mean: \"Like families, tidy datasets are all alike but every messy dataset is messy in its own way.\" What does this sentence mean: \"For a given dataset, it’s usually easy to figure out what are observations and what are variables, but it is surprisingly difficult to precisely define variables and observations in general.\"\n",
        "  4. Read Section 2.2. How does Wickham define values, variables, and observations?\n",
        "  5. How is \"Tidy Data\" defined in section 2.3?\n",
        "  6. Read the intro to Section 3 and Section 3.1. What are the 5 most common problems with messy datasets? Why are the data in Table 4 messy? What is \"melting\" a dataset?\n",
        "  7. Why, specifically, is table 11 messy but table 12 tidy and \"molten\"?\n",
        "  8. Read Section 6. What is the \"chicken-and-egg\" problem with focusing on tidy data? What does Wickham hope happens in the future with further work on the subject of data wrangling?"
      ]
    },
    {
      "cell_type": "markdown",
      "source": [
        "1. This paper is about tidy datasets which has a specific framework for structuring data to easily clean and manipulate data for data analysis.\n",
        "\n",
        "2. The \"tidy data standard\" is intented to be a basis/method for structuring data for analysis in an easy and efficient way.\n",
        "\n",
        "3. The first part, \"Like families, tidy datasets are all alike but every messy dataset is messy in its own way.\", means you can approach a dataset (clean and transform) in a similar way, but each dataset has its own problems/errors/issues to deal with and fix. The second part, \"For a given dataset, it’s usually easy to figure out what are observations and what are variables, but it is surprisingly difficult to precisely define variables and observations in general.\", means that the data is easy to understand when it is already layed out for you, but when given the dataset, it can be difficult to figure out/decide what should be your observations and what should be your variables. Someone else working with the dataset might choose a different set of observations and variables.\n",
        "\n",
        "4.\n",
        "values:\n",
        "variables:\n",
        "observations:\n",
        "\n",
        "5."
      ],
      "metadata": {
        "id": "djJVvto2pVIv"
      },
      "id": "djJVvto2pVIv"
    },
    {
      "cell_type": "markdown",
      "id": "da879ea7-8aac-48a3-b6c2-daea56d2e072",
      "metadata": {
        "id": "da879ea7-8aac-48a3-b6c2-daea56d2e072"
      },
      "source": [
        "**Q2.** This question provides some practice cleaning variables which have common problems.\n",
        "1. Numeric variable: For `./data/airbnb_hw.csv`, clean the `Price` variable as well as you can, and explain the choices you make. How many missing values do you end up with? (Hint: What happens to the formatting when a price goes over 999 dollars, say from 675 to 1,112?)\n",
        "2. Categorical variable: For the `./data/sharks.csv` data covered in the lecture, clean the \"Type\" variable as well as you can, and explain the choices you make.\n",
        "3. Dummy variable: For the pretrial data covered in the lecture, clean the `WhetherDefendantWasReleasedPretrial` variable as well as you can, and, in particular, replace missing values with `np.nan`.\n",
        "4. Missing values, not at random: For the pretrial data covered in the lecture, clean the `ImposedSentenceAllChargeInContactEvent` variable as well as you can, and explain the choices you make. (Hint: Look at the `SentenceTypeAllChargesAtConvictionInContactEvent` variable.)"
      ]
    },
    {
      "cell_type": "code",
      "source": [
        "import os\n",
        "print(os.getcwd())"
      ],
      "metadata": {
        "colab": {
          "base_uri": "https://localhost:8080/"
        },
        "id": "y40_8y0_pGaQ",
        "outputId": "1cba1b64-44de-4d75-e28d-8fab403400c3"
      },
      "id": "y40_8y0_pGaQ",
      "execution_count": 4,
      "outputs": [
        {
          "output_type": "stream",
          "name": "stdout",
          "text": [
            "/content\n"
          ]
        }
      ]
    },
    {
      "cell_type": "markdown",
      "source": [
        "Q2 #1"
      ],
      "metadata": {
        "id": "ozL2_2ydZjRs"
      },
      "id": "ozL2_2ydZjRs"
    },
    {
      "cell_type": "code",
      "source": [
        "#1\n",
        "import pandas as pd\n",
        "airbnb = pd.read_csv('/content/airbnb_hw.csv', low_memory = False)\n",
        "airbnb['Price'].unique()\n",
        "# There are commas for any number abbove 999, so we need to take them out since these are numeric"
      ],
      "metadata": {
        "id": "YM3Y5hETtsZL",
        "outputId": "49576f2d-e771-4c75-a9b1-e0fa0747a4c7",
        "colab": {
          "base_uri": "https://localhost:8080/"
        }
      },
      "id": "YM3Y5hETtsZL",
      "execution_count": 5,
      "outputs": [
        {
          "output_type": "execute_result",
          "data": {
            "text/plain": [
              "array(['145', '37', '28', '199', '549', '149', '250', '90', '270', '290',\n",
              "       '170', '59', '49', '68', '285', '75', '100', '150', '700', '125',\n",
              "       '175', '40', '89', '95', '99', '499', '120', '79', '110', '180',\n",
              "       '143', '230', '350', '135', '85', '60', '70', '55', '44', '200',\n",
              "       '165', '115', '74', '84', '129', '50', '185', '80', '190', '140',\n",
              "       '45', '65', '225', '600', '109', '1,990', '73', '240', '72', '105',\n",
              "       '155', '160', '42', '132', '117', '295', '280', '159', '107', '69',\n",
              "       '239', '220', '399', '130', '375', '585', '275', '139', '260',\n",
              "       '35', '133', '300', '289', '179', '98', '195', '29', '27', '39',\n",
              "       '249', '192', '142', '169', '1,000', '131', '138', '113', '122',\n",
              "       '329', '101', '475', '238', '272', '308', '126', '235', '315',\n",
              "       '248', '128', '56', '207', '450', '215', '210', '385', '445',\n",
              "       '136', '247', '118', '77', '76', '92', '198', '205', '299', '222',\n",
              "       '245', '104', '153', '349', '114', '320', '292', '226', '420',\n",
              "       '500', '325', '307', '78', '265', '108', '123', '189', '32', '58',\n",
              "       '86', '219', '800', '335', '63', '229', '425', '67', '87', '1,200',\n",
              "       '158', '650', '234', '310', '695', '400', '166', '119', '62',\n",
              "       '168', '340', '479', '43', '395', '144', '52', '47', '529', '187',\n",
              "       '209', '233', '82', '269', '163', '172', '305', '156', '550',\n",
              "       '435', '137', '124', '48', '279', '330', '5,000', '134', '378',\n",
              "       '97', '277', '64', '193', '147', '186', '264', '30', '3,000',\n",
              "       '112', '94', '379', '57', '415', '236', '410', '214', '88', '66',\n",
              "       '71', '171', '157', '545', '1,500', '83', '96', '1,800', '81',\n",
              "       '188', '380', '255', '505', '54', '33', '174', '93', '740', '640',\n",
              "       '1,300', '440', '599', '357', '1,239', '495', '127', '5,999',\n",
              "       '178', '348', '152', '242', '183', '253', '750', '259', '365',\n",
              "       '273', '197', '397', '103', '389', '355', '559', '38', '203',\n",
              "       '999', '141', '162', '333', '698', '46', '360', '895', '10', '41',\n",
              "       '206', '281', '449', '388', '212', '102', '201', '2,750', '4,750',\n",
              "       '432', '675', '167', '390', '298', '339', '194', '302', '211',\n",
              "       '595', '191', '53', '361', '480', '8,000', '4,500', '459', '997',\n",
              "       '345', '216', '218', '111', '735', '276', '91', '490', '850',\n",
              "       '398', '36', '775', '267', '625', '336', '2,500', '176', '725',\n",
              "       '3,750', '469', '106', '460', '287', '575', '227', '263', '25',\n",
              "       '228', '208', '177', '880', '148', '116', '685', '470', '217',\n",
              "       '164', '61', '645', '699', '405', '252', '319', '268', '419',\n",
              "       '343', '525', '311', '840', '154', '294', '950', '409', '184',\n",
              "       '257', '204', '241', '2,000', '412', '121', '288', '196', '900',\n",
              "       '647', '524', '1,750', '309', '510', '1,495', '1,700', '799',\n",
              "       '383', '372', '492', '327', '1,999', '656', '224', '173', '875',\n",
              "       '1,170', '795', '690', '146', '465', '1,100', '151', '274', '429',\n",
              "       '825', '282', '256', '1,111', '620', '271', '161', '51', '855',\n",
              "       '579', '1,174', '430', '20', '899', '649', '485', '181', '455',\n",
              "       '4,000', '243', '342', '590', '560', '374', '437', '232', '359',\n",
              "       '985', '31', '244', '254', '723', '237', '428', '370', '34',\n",
              "       '1,400', '580', '2,520', '221', '749', '1,600', '2,695', '306',\n",
              "       '202', '680', '570', '520', '223', '2,295', '213', '1,065', '346',\n",
              "       '24', '286', '296', '266', '26', '995', '1,368', '393', '182',\n",
              "       '635', '258', '780', '589', '347', '1,250', '1,350', '446',\n",
              "       '3,200', '1,050', '1,650', '1,550', '975', '323', '6,500', '2,499',\n",
              "       '1,850', '2,250', '715', '461', '540', '356', '439', '384', '569',\n",
              "       '1,900', '22', '785', '626', '830', '318', '444', '321', '401',\n",
              "       '1,499', '888', '369', '770', '386', '366', '344', '630', '313',\n",
              "       '597', '262', '509', '10,000', '278', '312', '789', '1,195', '422',\n",
              "       '21', '765', '3,500', '945', '326', '3,100', '2,486', '3,390',\n",
              "       '1,356', '2,599', '472', '454', '328', '396', '291'], dtype=object)"
            ]
          },
          "metadata": {},
          "execution_count": 5
        }
      ]
    },
    {
      "cell_type": "code",
      "source": [
        "airbnb['Price'].dtype\n",
        "# (price data is an object here >> need to change to numeric)"
      ],
      "metadata": {
        "colab": {
          "base_uri": "https://localhost:8080/"
        },
        "id": "d7fLANTM0pc-",
        "outputId": "4ab5ad6d-7943-46b5-8897-5145cbc216a5"
      },
      "id": "d7fLANTM0pc-",
      "execution_count": 8,
      "outputs": [
        {
          "output_type": "execute_result",
          "data": {
            "text/plain": [
              "dtype('O')"
            ]
          },
          "metadata": {},
          "execution_count": 8
        }
      ]
    },
    {
      "cell_type": "code",
      "source": [
        "# take out commas\n",
        "airbnb['Price'] = airbnb['Price'].str.replace(',', '')\n",
        "airbnb['Price'].unique()"
      ],
      "metadata": {
        "colab": {
          "base_uri": "https://localhost:8080/"
        },
        "id": "5TP8qp4cxhCP",
        "outputId": "9ef162b7-30a9-46e7-ac31-41ac5a897936"
      },
      "id": "5TP8qp4cxhCP",
      "execution_count": 9,
      "outputs": [
        {
          "output_type": "execute_result",
          "data": {
            "text/plain": [
              "array(['145', '37', '28', '199', '549', '149', '250', '90', '270', '290',\n",
              "       '170', '59', '49', '68', '285', '75', '100', '150', '700', '125',\n",
              "       '175', '40', '89', '95', '99', '499', '120', '79', '110', '180',\n",
              "       '143', '230', '350', '135', '85', '60', '70', '55', '44', '200',\n",
              "       '165', '115', '74', '84', '129', '50', '185', '80', '190', '140',\n",
              "       '45', '65', '225', '600', '109', '1990', '73', '240', '72', '105',\n",
              "       '155', '160', '42', '132', '117', '295', '280', '159', '107', '69',\n",
              "       '239', '220', '399', '130', '375', '585', '275', '139', '260',\n",
              "       '35', '133', '300', '289', '179', '98', '195', '29', '27', '39',\n",
              "       '249', '192', '142', '169', '1000', '131', '138', '113', '122',\n",
              "       '329', '101', '475', '238', '272', '308', '126', '235', '315',\n",
              "       '248', '128', '56', '207', '450', '215', '210', '385', '445',\n",
              "       '136', '247', '118', '77', '76', '92', '198', '205', '299', '222',\n",
              "       '245', '104', '153', '349', '114', '320', '292', '226', '420',\n",
              "       '500', '325', '307', '78', '265', '108', '123', '189', '32', '58',\n",
              "       '86', '219', '800', '335', '63', '229', '425', '67', '87', '1200',\n",
              "       '158', '650', '234', '310', '695', '400', '166', '119', '62',\n",
              "       '168', '340', '479', '43', '395', '144', '52', '47', '529', '187',\n",
              "       '209', '233', '82', '269', '163', '172', '305', '156', '550',\n",
              "       '435', '137', '124', '48', '279', '330', '5000', '134', '378',\n",
              "       '97', '277', '64', '193', '147', '186', '264', '30', '3000', '112',\n",
              "       '94', '379', '57', '415', '236', '410', '214', '88', '66', '71',\n",
              "       '171', '157', '545', '1500', '83', '96', '1800', '81', '188',\n",
              "       '380', '255', '505', '54', '33', '174', '93', '740', '640', '1300',\n",
              "       '440', '599', '357', '1239', '495', '127', '5999', '178', '348',\n",
              "       '152', '242', '183', '253', '750', '259', '365', '273', '197',\n",
              "       '397', '103', '389', '355', '559', '38', '203', '999', '141',\n",
              "       '162', '333', '698', '46', '360', '895', '10', '41', '206', '281',\n",
              "       '449', '388', '212', '102', '201', '2750', '4750', '432', '675',\n",
              "       '167', '390', '298', '339', '194', '302', '211', '595', '191',\n",
              "       '53', '361', '480', '8000', '4500', '459', '997', '345', '216',\n",
              "       '218', '111', '735', '276', '91', '490', '850', '398', '36', '775',\n",
              "       '267', '625', '336', '2500', '176', '725', '3750', '469', '106',\n",
              "       '460', '287', '575', '227', '263', '25', '228', '208', '177',\n",
              "       '880', '148', '116', '685', '470', '217', '164', '61', '645',\n",
              "       '699', '405', '252', '319', '268', '419', '343', '525', '311',\n",
              "       '840', '154', '294', '950', '409', '184', '257', '204', '241',\n",
              "       '2000', '412', '121', '288', '196', '900', '647', '524', '1750',\n",
              "       '309', '510', '1495', '1700', '799', '383', '372', '492', '327',\n",
              "       '1999', '656', '224', '173', '875', '1170', '795', '690', '146',\n",
              "       '465', '1100', '151', '274', '429', '825', '282', '256', '1111',\n",
              "       '620', '271', '161', '51', '855', '579', '1174', '430', '20',\n",
              "       '899', '649', '485', '181', '455', '4000', '243', '342', '590',\n",
              "       '560', '374', '437', '232', '359', '985', '31', '244', '254',\n",
              "       '723', '237', '428', '370', '34', '1400', '580', '2520', '221',\n",
              "       '749', '1600', '2695', '306', '202', '680', '570', '520', '223',\n",
              "       '2295', '213', '1065', '346', '24', '286', '296', '266', '26',\n",
              "       '995', '1368', '393', '182', '635', '258', '780', '589', '347',\n",
              "       '1250', '1350', '446', '3200', '1050', '1650', '1550', '975',\n",
              "       '323', '6500', '2499', '1850', '2250', '715', '461', '540', '356',\n",
              "       '439', '384', '569', '1900', '22', '785', '626', '830', '318',\n",
              "       '444', '321', '401', '1499', '888', '369', '770', '386', '366',\n",
              "       '344', '630', '313', '597', '262', '509', '10000', '278', '312',\n",
              "       '789', '1195', '422', '21', '765', '3500', '945', '326', '3100',\n",
              "       '2486', '3390', '1356', '2599', '472', '454', '328', '396', '291'],\n",
              "      dtype=object)"
            ]
          },
          "metadata": {},
          "execution_count": 9
        }
      ]
    },
    {
      "cell_type": "code",
      "source": [
        "# change from object to numberic data type\n",
        "airbnb['Price'] = pd.to_numeric(airbnb['Price'], errors = 'coerce')\n",
        "# check data type\n",
        "airbnb['Price'].dtype"
      ],
      "metadata": {
        "colab": {
          "base_uri": "https://localhost:8080/"
        },
        "id": "3r9mkgf_1XNo",
        "outputId": "fe8affb5-b080-4b14-d740-67f00ac7175f"
      },
      "id": "3r9mkgf_1XNo",
      "execution_count": 33,
      "outputs": [
        {
          "output_type": "execute_result",
          "data": {
            "text/plain": [
              "dtype('int64')"
            ]
          },
          "metadata": {},
          "execution_count": 33
        }
      ]
    },
    {
      "cell_type": "markdown",
      "source": [
        "Q2 #2"
      ],
      "metadata": {
        "id": "YwmFspWGZaw5"
      },
      "id": "YwmFspWGZaw5"
    },
    {
      "cell_type": "code",
      "source": [
        "sharks = pd.read_csv('/content/sharks.csv', low_memory = False)\n",
        "sharks.head()"
      ],
      "metadata": {
        "id": "9kLb3FaZrP_t",
        "outputId": "8cd8a4cf-cf1c-4b47-a4f7-d6a28f0aef53",
        "colab": {
          "base_uri": "https://localhost:8080/",
          "height": 429
        }
      },
      "id": "9kLb3FaZrP_t",
      "execution_count": 34,
      "outputs": [
        {
          "output_type": "execute_result",
          "data": {
            "text/plain": [
              "   index   Case Number                  Date    Year        Type      Country  \\\n",
              "0      0    2020.02.05           05-Feb-2020  2020.0  Unprovoked          USA   \n",
              "1      1  2020.01.30.R  Reported 30-Jan-2020  2020.0    Provoked      BAHAMAS   \n",
              "2      2    2020.01.17           17-Jan-2020  2020.0  Unprovoked    AUSTRALIA   \n",
              "3      3    2020.01.16           16-Jan-2020  2020.0  Unprovoked  NEW ZEALAND   \n",
              "4      4    2020.01.13           13-Jan-2020  2020.0  Unprovoked          USA   \n",
              "\n",
              "              Area               Location                  Activity  \\\n",
              "0             Maui                    NaN  Stand-Up Paddle boarding   \n",
              "1           Exumas                    NaN                  Floating   \n",
              "2  New South Wales          Windang Beach                   Surfing   \n",
              "3        Southland            Oreti Beach                   Surfing   \n",
              "4   North Carolina  Rodanthe, Dare County                   Surfing   \n",
              "\n",
              "              Name  ... Unnamed: 246 Unnamed: 247 Unnamed: 248 Unnamed: 249  \\\n",
              "0              NaN  ...          NaN          NaN          NaN          NaN   \n",
              "1  Ana Bruna Avila  ...          NaN          NaN          NaN          NaN   \n",
              "2   Will Schroeter  ...          NaN          NaN          NaN          NaN   \n",
              "3      Jordan King  ...          NaN          NaN          NaN          NaN   \n",
              "4     Samuel Horne  ...          NaN          NaN          NaN          NaN   \n",
              "\n",
              "  Unnamed: 250 Unnamed: 251 Unnamed: 252 Unnamed: 253 Unnamed: 254  \\\n",
              "0          NaN          NaN          NaN          NaN          NaN   \n",
              "1          NaN          NaN          NaN          NaN          NaN   \n",
              "2          NaN          NaN          NaN          NaN          NaN   \n",
              "3          NaN          NaN          NaN          NaN          NaN   \n",
              "4          NaN          NaN          NaN          NaN          NaN   \n",
              "\n",
              "  Unnamed: 255  \n",
              "0          NaN  \n",
              "1          NaN  \n",
              "2          NaN  \n",
              "3          NaN  \n",
              "4          NaN  \n",
              "\n",
              "[5 rows x 257 columns]"
            ],
            "text/html": [
              "\n",
              "  <div id=\"df-ada0d0aa-27c1-496b-822d-f978dfe97a41\" class=\"colab-df-container\">\n",
              "    <div>\n",
              "<style scoped>\n",
              "    .dataframe tbody tr th:only-of-type {\n",
              "        vertical-align: middle;\n",
              "    }\n",
              "\n",
              "    .dataframe tbody tr th {\n",
              "        vertical-align: top;\n",
              "    }\n",
              "\n",
              "    .dataframe thead th {\n",
              "        text-align: right;\n",
              "    }\n",
              "</style>\n",
              "<table border=\"1\" class=\"dataframe\">\n",
              "  <thead>\n",
              "    <tr style=\"text-align: right;\">\n",
              "      <th></th>\n",
              "      <th>index</th>\n",
              "      <th>Case Number</th>\n",
              "      <th>Date</th>\n",
              "      <th>Year</th>\n",
              "      <th>Type</th>\n",
              "      <th>Country</th>\n",
              "      <th>Area</th>\n",
              "      <th>Location</th>\n",
              "      <th>Activity</th>\n",
              "      <th>Name</th>\n",
              "      <th>...</th>\n",
              "      <th>Unnamed: 246</th>\n",
              "      <th>Unnamed: 247</th>\n",
              "      <th>Unnamed: 248</th>\n",
              "      <th>Unnamed: 249</th>\n",
              "      <th>Unnamed: 250</th>\n",
              "      <th>Unnamed: 251</th>\n",
              "      <th>Unnamed: 252</th>\n",
              "      <th>Unnamed: 253</th>\n",
              "      <th>Unnamed: 254</th>\n",
              "      <th>Unnamed: 255</th>\n",
              "    </tr>\n",
              "  </thead>\n",
              "  <tbody>\n",
              "    <tr>\n",
              "      <th>0</th>\n",
              "      <td>0</td>\n",
              "      <td>2020.02.05</td>\n",
              "      <td>05-Feb-2020</td>\n",
              "      <td>2020.0</td>\n",
              "      <td>Unprovoked</td>\n",
              "      <td>USA</td>\n",
              "      <td>Maui</td>\n",
              "      <td>NaN</td>\n",
              "      <td>Stand-Up Paddle boarding</td>\n",
              "      <td>NaN</td>\n",
              "      <td>...</td>\n",
              "      <td>NaN</td>\n",
              "      <td>NaN</td>\n",
              "      <td>NaN</td>\n",
              "      <td>NaN</td>\n",
              "      <td>NaN</td>\n",
              "      <td>NaN</td>\n",
              "      <td>NaN</td>\n",
              "      <td>NaN</td>\n",
              "      <td>NaN</td>\n",
              "      <td>NaN</td>\n",
              "    </tr>\n",
              "    <tr>\n",
              "      <th>1</th>\n",
              "      <td>1</td>\n",
              "      <td>2020.01.30.R</td>\n",
              "      <td>Reported 30-Jan-2020</td>\n",
              "      <td>2020.0</td>\n",
              "      <td>Provoked</td>\n",
              "      <td>BAHAMAS</td>\n",
              "      <td>Exumas</td>\n",
              "      <td>NaN</td>\n",
              "      <td>Floating</td>\n",
              "      <td>Ana Bruna Avila</td>\n",
              "      <td>...</td>\n",
              "      <td>NaN</td>\n",
              "      <td>NaN</td>\n",
              "      <td>NaN</td>\n",
              "      <td>NaN</td>\n",
              "      <td>NaN</td>\n",
              "      <td>NaN</td>\n",
              "      <td>NaN</td>\n",
              "      <td>NaN</td>\n",
              "      <td>NaN</td>\n",
              "      <td>NaN</td>\n",
              "    </tr>\n",
              "    <tr>\n",
              "      <th>2</th>\n",
              "      <td>2</td>\n",
              "      <td>2020.01.17</td>\n",
              "      <td>17-Jan-2020</td>\n",
              "      <td>2020.0</td>\n",
              "      <td>Unprovoked</td>\n",
              "      <td>AUSTRALIA</td>\n",
              "      <td>New South Wales</td>\n",
              "      <td>Windang Beach</td>\n",
              "      <td>Surfing</td>\n",
              "      <td>Will Schroeter</td>\n",
              "      <td>...</td>\n",
              "      <td>NaN</td>\n",
              "      <td>NaN</td>\n",
              "      <td>NaN</td>\n",
              "      <td>NaN</td>\n",
              "      <td>NaN</td>\n",
              "      <td>NaN</td>\n",
              "      <td>NaN</td>\n",
              "      <td>NaN</td>\n",
              "      <td>NaN</td>\n",
              "      <td>NaN</td>\n",
              "    </tr>\n",
              "    <tr>\n",
              "      <th>3</th>\n",
              "      <td>3</td>\n",
              "      <td>2020.01.16</td>\n",
              "      <td>16-Jan-2020</td>\n",
              "      <td>2020.0</td>\n",
              "      <td>Unprovoked</td>\n",
              "      <td>NEW ZEALAND</td>\n",
              "      <td>Southland</td>\n",
              "      <td>Oreti Beach</td>\n",
              "      <td>Surfing</td>\n",
              "      <td>Jordan King</td>\n",
              "      <td>...</td>\n",
              "      <td>NaN</td>\n",
              "      <td>NaN</td>\n",
              "      <td>NaN</td>\n",
              "      <td>NaN</td>\n",
              "      <td>NaN</td>\n",
              "      <td>NaN</td>\n",
              "      <td>NaN</td>\n",
              "      <td>NaN</td>\n",
              "      <td>NaN</td>\n",
              "      <td>NaN</td>\n",
              "    </tr>\n",
              "    <tr>\n",
              "      <th>4</th>\n",
              "      <td>4</td>\n",
              "      <td>2020.01.13</td>\n",
              "      <td>13-Jan-2020</td>\n",
              "      <td>2020.0</td>\n",
              "      <td>Unprovoked</td>\n",
              "      <td>USA</td>\n",
              "      <td>North Carolina</td>\n",
              "      <td>Rodanthe, Dare County</td>\n",
              "      <td>Surfing</td>\n",
              "      <td>Samuel Horne</td>\n",
              "      <td>...</td>\n",
              "      <td>NaN</td>\n",
              "      <td>NaN</td>\n",
              "      <td>NaN</td>\n",
              "      <td>NaN</td>\n",
              "      <td>NaN</td>\n",
              "      <td>NaN</td>\n",
              "      <td>NaN</td>\n",
              "      <td>NaN</td>\n",
              "      <td>NaN</td>\n",
              "      <td>NaN</td>\n",
              "    </tr>\n",
              "  </tbody>\n",
              "</table>\n",
              "<p>5 rows × 257 columns</p>\n",
              "</div>\n",
              "    <div class=\"colab-df-buttons\">\n",
              "\n",
              "  <div class=\"colab-df-container\">\n",
              "    <button class=\"colab-df-convert\" onclick=\"convertToInteractive('df-ada0d0aa-27c1-496b-822d-f978dfe97a41')\"\n",
              "            title=\"Convert this dataframe to an interactive table.\"\n",
              "            style=\"display:none;\">\n",
              "\n",
              "  <svg xmlns=\"http://www.w3.org/2000/svg\" height=\"24px\" viewBox=\"0 -960 960 960\">\n",
              "    <path d=\"M120-120v-720h720v720H120Zm60-500h600v-160H180v160Zm220 220h160v-160H400v160Zm0 220h160v-160H400v160ZM180-400h160v-160H180v160Zm440 0h160v-160H620v160ZM180-180h160v-160H180v160Zm440 0h160v-160H620v160Z\"/>\n",
              "  </svg>\n",
              "    </button>\n",
              "\n",
              "  <style>\n",
              "    .colab-df-container {\n",
              "      display:flex;\n",
              "      gap: 12px;\n",
              "    }\n",
              "\n",
              "    .colab-df-convert {\n",
              "      background-color: #E8F0FE;\n",
              "      border: none;\n",
              "      border-radius: 50%;\n",
              "      cursor: pointer;\n",
              "      display: none;\n",
              "      fill: #1967D2;\n",
              "      height: 32px;\n",
              "      padding: 0 0 0 0;\n",
              "      width: 32px;\n",
              "    }\n",
              "\n",
              "    .colab-df-convert:hover {\n",
              "      background-color: #E2EBFA;\n",
              "      box-shadow: 0px 1px 2px rgba(60, 64, 67, 0.3), 0px 1px 3px 1px rgba(60, 64, 67, 0.15);\n",
              "      fill: #174EA6;\n",
              "    }\n",
              "\n",
              "    .colab-df-buttons div {\n",
              "      margin-bottom: 4px;\n",
              "    }\n",
              "\n",
              "    [theme=dark] .colab-df-convert {\n",
              "      background-color: #3B4455;\n",
              "      fill: #D2E3FC;\n",
              "    }\n",
              "\n",
              "    [theme=dark] .colab-df-convert:hover {\n",
              "      background-color: #434B5C;\n",
              "      box-shadow: 0px 1px 3px 1px rgba(0, 0, 0, 0.15);\n",
              "      filter: drop-shadow(0px 1px 2px rgba(0, 0, 0, 0.3));\n",
              "      fill: #FFFFFF;\n",
              "    }\n",
              "  </style>\n",
              "\n",
              "    <script>\n",
              "      const buttonEl =\n",
              "        document.querySelector('#df-ada0d0aa-27c1-496b-822d-f978dfe97a41 button.colab-df-convert');\n",
              "      buttonEl.style.display =\n",
              "        google.colab.kernel.accessAllowed ? 'block' : 'none';\n",
              "\n",
              "      async function convertToInteractive(key) {\n",
              "        const element = document.querySelector('#df-ada0d0aa-27c1-496b-822d-f978dfe97a41');\n",
              "        const dataTable =\n",
              "          await google.colab.kernel.invokeFunction('convertToInteractive',\n",
              "                                                    [key], {});\n",
              "        if (!dataTable) return;\n",
              "\n",
              "        const docLinkHtml = 'Like what you see? Visit the ' +\n",
              "          '<a target=\"_blank\" href=https://colab.research.google.com/notebooks/data_table.ipynb>data table notebook</a>'\n",
              "          + ' to learn more about interactive tables.';\n",
              "        element.innerHTML = '';\n",
              "        dataTable['output_type'] = 'display_data';\n",
              "        await google.colab.output.renderOutput(dataTable, element);\n",
              "        const docLink = document.createElement('div');\n",
              "        docLink.innerHTML = docLinkHtml;\n",
              "        element.appendChild(docLink);\n",
              "      }\n",
              "    </script>\n",
              "  </div>\n",
              "\n",
              "\n",
              "<div id=\"df-d2f55faa-9769-468a-b686-6cb235d7c625\">\n",
              "  <button class=\"colab-df-quickchart\" onclick=\"quickchart('df-d2f55faa-9769-468a-b686-6cb235d7c625')\"\n",
              "            title=\"Suggest charts\"\n",
              "            style=\"display:none;\">\n",
              "\n",
              "<svg xmlns=\"http://www.w3.org/2000/svg\" height=\"24px\"viewBox=\"0 0 24 24\"\n",
              "     width=\"24px\">\n",
              "    <g>\n",
              "        <path d=\"M19 3H5c-1.1 0-2 .9-2 2v14c0 1.1.9 2 2 2h14c1.1 0 2-.9 2-2V5c0-1.1-.9-2-2-2zM9 17H7v-7h2v7zm4 0h-2V7h2v10zm4 0h-2v-4h2v4z\"/>\n",
              "    </g>\n",
              "</svg>\n",
              "  </button>\n",
              "\n",
              "<style>\n",
              "  .colab-df-quickchart {\n",
              "      --bg-color: #E8F0FE;\n",
              "      --fill-color: #1967D2;\n",
              "      --hover-bg-color: #E2EBFA;\n",
              "      --hover-fill-color: #174EA6;\n",
              "      --disabled-fill-color: #AAA;\n",
              "      --disabled-bg-color: #DDD;\n",
              "  }\n",
              "\n",
              "  [theme=dark] .colab-df-quickchart {\n",
              "      --bg-color: #3B4455;\n",
              "      --fill-color: #D2E3FC;\n",
              "      --hover-bg-color: #434B5C;\n",
              "      --hover-fill-color: #FFFFFF;\n",
              "      --disabled-bg-color: #3B4455;\n",
              "      --disabled-fill-color: #666;\n",
              "  }\n",
              "\n",
              "  .colab-df-quickchart {\n",
              "    background-color: var(--bg-color);\n",
              "    border: none;\n",
              "    border-radius: 50%;\n",
              "    cursor: pointer;\n",
              "    display: none;\n",
              "    fill: var(--fill-color);\n",
              "    height: 32px;\n",
              "    padding: 0;\n",
              "    width: 32px;\n",
              "  }\n",
              "\n",
              "  .colab-df-quickchart:hover {\n",
              "    background-color: var(--hover-bg-color);\n",
              "    box-shadow: 0 1px 2px rgba(60, 64, 67, 0.3), 0 1px 3px 1px rgba(60, 64, 67, 0.15);\n",
              "    fill: var(--button-hover-fill-color);\n",
              "  }\n",
              "\n",
              "  .colab-df-quickchart-complete:disabled,\n",
              "  .colab-df-quickchart-complete:disabled:hover {\n",
              "    background-color: var(--disabled-bg-color);\n",
              "    fill: var(--disabled-fill-color);\n",
              "    box-shadow: none;\n",
              "  }\n",
              "\n",
              "  .colab-df-spinner {\n",
              "    border: 2px solid var(--fill-color);\n",
              "    border-color: transparent;\n",
              "    border-bottom-color: var(--fill-color);\n",
              "    animation:\n",
              "      spin 1s steps(1) infinite;\n",
              "  }\n",
              "\n",
              "  @keyframes spin {\n",
              "    0% {\n",
              "      border-color: transparent;\n",
              "      border-bottom-color: var(--fill-color);\n",
              "      border-left-color: var(--fill-color);\n",
              "    }\n",
              "    20% {\n",
              "      border-color: transparent;\n",
              "      border-left-color: var(--fill-color);\n",
              "      border-top-color: var(--fill-color);\n",
              "    }\n",
              "    30% {\n",
              "      border-color: transparent;\n",
              "      border-left-color: var(--fill-color);\n",
              "      border-top-color: var(--fill-color);\n",
              "      border-right-color: var(--fill-color);\n",
              "    }\n",
              "    40% {\n",
              "      border-color: transparent;\n",
              "      border-right-color: var(--fill-color);\n",
              "      border-top-color: var(--fill-color);\n",
              "    }\n",
              "    60% {\n",
              "      border-color: transparent;\n",
              "      border-right-color: var(--fill-color);\n",
              "    }\n",
              "    80% {\n",
              "      border-color: transparent;\n",
              "      border-right-color: var(--fill-color);\n",
              "      border-bottom-color: var(--fill-color);\n",
              "    }\n",
              "    90% {\n",
              "      border-color: transparent;\n",
              "      border-bottom-color: var(--fill-color);\n",
              "    }\n",
              "  }\n",
              "</style>\n",
              "\n",
              "  <script>\n",
              "    async function quickchart(key) {\n",
              "      const quickchartButtonEl =\n",
              "        document.querySelector('#' + key + ' button');\n",
              "      quickchartButtonEl.disabled = true;  // To prevent multiple clicks.\n",
              "      quickchartButtonEl.classList.add('colab-df-spinner');\n",
              "      try {\n",
              "        const charts = await google.colab.kernel.invokeFunction(\n",
              "            'suggestCharts', [key], {});\n",
              "      } catch (error) {\n",
              "        console.error('Error during call to suggestCharts:', error);\n",
              "      }\n",
              "      quickchartButtonEl.classList.remove('colab-df-spinner');\n",
              "      quickchartButtonEl.classList.add('colab-df-quickchart-complete');\n",
              "    }\n",
              "    (() => {\n",
              "      let quickchartButtonEl =\n",
              "        document.querySelector('#df-d2f55faa-9769-468a-b686-6cb235d7c625 button');\n",
              "      quickchartButtonEl.style.display =\n",
              "        google.colab.kernel.accessAllowed ? 'block' : 'none';\n",
              "    })();\n",
              "  </script>\n",
              "</div>\n",
              "    </div>\n",
              "  </div>\n"
            ]
          },
          "metadata": {},
          "execution_count": 34
        }
      ]
    },
    {
      "cell_type": "code",
      "source": [
        "sharks['Type'].unique()\n",
        "\n",
        "# there looks to be a couple categories that are the same including Boating, Boat, and Boatomg (which was a typo)\n",
        "# they should be consolidated into one category"
      ],
      "metadata": {
        "colab": {
          "base_uri": "https://localhost:8080/"
        },
        "id": "3e5DNI8_UxOy",
        "outputId": "8b30365b-34ab-4ad5-a853-1e1a2b3fbc3b"
      },
      "id": "3e5DNI8_UxOy",
      "execution_count": 35,
      "outputs": [
        {
          "output_type": "execute_result",
          "data": {
            "text/plain": [
              "array(['Unprovoked', 'Provoked', 'Questionable', 'Watercraft',\n",
              "       'Unconfirmed', 'Unverified', 'Invalid', 'Under investigation',\n",
              "       'Boating', 'Sea Disaster', nan, 'Boat', 'Boatomg'], dtype=object)"
            ]
          },
          "metadata": {},
          "execution_count": 35
        }
      ]
    },
    {
      "cell_type": "code",
      "source": [
        "# consolidate columns that mean the same thing or could fit under one category\n",
        "type = sharks['Type']\n",
        "type = type.replace(['Boating','Boat','Boatomg', 'Watercraft', 'Sea Disaster'], 'Water Incident')\n",
        "type = type.replace(['Questionable', 'Unconfirmed','Unverified', 'Invalid', 'Under investigation'], 'Unconfirmed')\n",
        "type.unique()"
      ],
      "metadata": {
        "colab": {
          "base_uri": "https://localhost:8080/"
        },
        "id": "F5k7b5R_WLfv",
        "outputId": "a1d48742-8bf1-4f99-a135-d6e249e6cae1"
      },
      "id": "F5k7b5R_WLfv",
      "execution_count": 36,
      "outputs": [
        {
          "output_type": "execute_result",
          "data": {
            "text/plain": [
              "array(['Unprovoked', 'Provoked', 'Unconfirmed', 'Water Incident', nan],\n",
              "      dtype=object)"
            ]
          },
          "metadata": {},
          "execution_count": 36
        }
      ]
    },
    {
      "cell_type": "code",
      "source": [
        "type.value_counts()\n",
        "\n",
        "# now we have four categories within the Type category that make sense and are not repetitive. This is much easier to analyze."
      ],
      "metadata": {
        "colab": {
          "base_uri": "https://localhost:8080/"
        },
        "id": "q4yWV002Ycx6",
        "outputId": "1cbf601f-bea1-42c7-bcfa-9534adcc49a6"
      },
      "id": "q4yWV002Ycx6",
      "execution_count": 38,
      "outputs": [
        {
          "output_type": "execute_result",
          "data": {
            "text/plain": [
              "Unprovoked        4716\n",
              "Provoked           593\n",
              "Water Incident     583\n",
              "Unconfirmed        565\n",
              "Name: Type, dtype: int64"
            ]
          },
          "metadata": {},
          "execution_count": 38
        }
      ]
    },
    {
      "cell_type": "code",
      "source": [
        "# put back into Type column in the sharks dataframe\n",
        "\n",
        "sharks['Type'] = type"
      ],
      "metadata": {
        "id": "e3ykJb2vZuFq"
      },
      "id": "e3ykJb2vZuFq",
      "execution_count": 42,
      "outputs": []
    },
    {
      "cell_type": "code",
      "source": [
        "# graph to see what attacks were unprovoked vs. provoked as well as how many were unconfirmed or just from a water vehicle\n",
        "# by a large amount, a majority were unprovoked!\n",
        "sharks['Type'].hist(bins=10)"
      ],
      "metadata": {
        "colab": {
          "base_uri": "https://localhost:8080/",
          "height": 448
        },
        "id": "ekvjLK7XaGdZ",
        "outputId": "80826f84-b984-4cd9-8dfe-57b0984cd098"
      },
      "id": "ekvjLK7XaGdZ",
      "execution_count": 47,
      "outputs": [
        {
          "output_type": "execute_result",
          "data": {
            "text/plain": [
              "<Axes: >"
            ]
          },
          "metadata": {},
          "execution_count": 47
        },
        {
          "output_type": "display_data",
          "data": {
            "text/plain": [
              "<Figure size 640x480 with 1 Axes>"
            ],
            "image/png": "[encoded data removed]"
          },
          "metadata": {}
        }
      ]
    },
    {
      "cell_type": "markdown",
      "source": [
        "Q2 #3"
      ],
      "metadata": {
        "id": "iUIrGzm0ap6A"
      },
      "id": "iUIrGzm0ap6A"
    },
    {
      "cell_type": "code",
      "source": [
        "url = 'http://www.vcsc.virginia.gov/pretrialdataproject/October%202017%20Cohort_Virginia%20Pretrial%20Data%20Project_Deidentified%20FINAL%20Update_10272021.csv'\n",
        "pretrial = pd.read_csv(url,low_memory=False)"
      ],
      "metadata": {
        "id": "Z2pYW-2Cat79"
      },
      "id": "Z2pYW-2Cat79",
      "execution_count": 50,
      "outputs": []
    },
    {
      "cell_type": "code",
      "source": [
        "pretrial['WhetherDefendantWasReleasedPretrial'].value_counts()\n",
        "\n",
        "# possible values are 1,0,9. We don't know what 9 means so it needs to be taken out."
      ],
      "metadata": {
        "colab": {
          "base_uri": "https://localhost:8080/"
        },
        "id": "yvGTdp1ea9hx",
        "outputId": "9b84a4bb-a9c4-4518-e91c-10ace1a54c83"
      },
      "id": "yvGTdp1ea9hx",
      "execution_count": 53,
      "outputs": [
        {
          "output_type": "execute_result",
          "data": {
            "text/plain": [
              "1    19154\n",
              "0     3801\n",
              "9       31\n",
              "Name: WhetherDefendantWasReleasedPretrial, dtype: int64"
            ]
          },
          "metadata": {},
          "execution_count": 53
        }
      ]
    },
    {
      "cell_type": "code",
      "source": [
        "import numpy as np\n",
        "released = pretrial['WhetherDefendantWasReleasedPretrial']\n",
        "released = released.replace(9, np.nan)\n",
        "released.value_counts()"
      ],
      "metadata": {
        "colab": {
          "base_uri": "https://localhost:8080/"
        },
        "id": "XpLdZs7fbhg6",
        "outputId": "6ea93bcb-89da-400d-dc32-d0264322ddde"
      },
      "id": "XpLdZs7fbhg6",
      "execution_count": 58,
      "outputs": [
        {
          "output_type": "execute_result",
          "data": {
            "text/plain": [
              "1.0    19154\n",
              "0.0     3801\n",
              "Name: WhetherDefendantWasReleasedPretrial, dtype: int64"
            ]
          },
          "metadata": {},
          "execution_count": 58
        }
      ]
    },
    {
      "cell_type": "code",
      "source": [
        "# put back into WhetherDefendantWasReleasedPretrial column of pretrial df\n",
        "pretrial['WhetherDefendantWasReleasedPretrial'] = released\n",
        "# check to make sure 9s are gone\n",
        "pretrial['WhetherDefendantWasReleasedPretrial'].value_counts()"
      ],
      "metadata": {
        "colab": {
          "base_uri": "https://localhost:8080/"
        },
        "id": "QsGql4V0cE4d",
        "outputId": "4a5de7ee-e874-4848-c177-b4be80602c72"
      },
      "id": "QsGql4V0cE4d",
      "execution_count": 60,
      "outputs": [
        {
          "output_type": "execute_result",
          "data": {
            "text/plain": [
              "1.0    19154\n",
              "0.0     3801\n",
              "Name: WhetherDefendantWasReleasedPretrial, dtype: int64"
            ]
          },
          "metadata": {},
          "execution_count": 60
        }
      ]
    },
    {
      "cell_type": "markdown",
      "source": [
        "Q2 #4"
      ],
      "metadata": {
        "id": "ZUbqpCcDcoGK"
      },
      "id": "ZUbqpCcDcoGK"
    },
    {
      "cell_type": "code",
      "source": [
        "pretrial['ImposedSentenceAllChargeInContactEvent'].head(25)\n",
        "# this data looks crazy, first need to understand what each number means and if any need to be taken out"
      ],
      "metadata": {
        "colab": {
          "base_uri": "https://localhost:8080/"
        },
        "id": "JOvRgbXQcqXN",
        "outputId": "9275f653-1e4b-4256-82c8-bdd2d7f65444"
      },
      "id": "JOvRgbXQcqXN",
      "execution_count": 100,
      "outputs": [
        {
          "output_type": "execute_result",
          "data": {
            "text/plain": [
              "0                     \n",
              "1                   60\n",
              "2                   12\n",
              "3     .985626283367556\n",
              "4                     \n",
              "5                   12\n",
              "6                   36\n",
              "7                    6\n",
              "8                   24\n",
              "9                   12\n",
              "10    5.91375770020534\n",
              "11                    \n",
              "12                    \n",
              "13                 120\n",
              "14                  24\n",
              "15                    \n",
              "16                    \n",
              "17                  12\n",
              "18                    \n",
              "19                  12\n",
              "20                  12\n",
              "21                    \n",
              "22                    \n",
              "23                  12\n",
              "24                    \n",
              "Name: ImposedSentenceAllChargeInContactEvent, dtype: object"
            ]
          },
          "metadata": {},
          "execution_count": 100
        }
      ]
    },
    {
      "cell_type": "code",
      "source": [
        "sentence = pretrial['ImposedSentenceAllChargeInContactEvent']\n",
        "sentence.dtype\n",
        "\n",
        "# sentence is object data type, needs to be numeric integer\n"
      ],
      "metadata": {
        "colab": {
          "base_uri": "https://localhost:8080/"
        },
        "id": "oTcOB-tbhIgs",
        "outputId": "7e25f1a9-484f-4bb0-af5d-15bbf705a2b2"
      },
      "id": "oTcOB-tbhIgs",
      "execution_count": 81,
      "outputs": [
        {
          "output_type": "execute_result",
          "data": {
            "text/plain": [
              "dtype('O')"
            ]
          },
          "metadata": {},
          "execution_count": 81
        }
      ]
    },
    {
      "cell_type": "code",
      "source": [
        "# convert from object to number (this makes more sense to handle the data)\n",
        "sentence = pd.to_numeric(sentence, errors = 'coerce')\n",
        "sentence.dtype"
      ],
      "metadata": {
        "colab": {
          "base_uri": "https://localhost:8080/"
        },
        "id": "CGmMFCcPjNVC",
        "outputId": "81ff93a0-5f20-420d-a46e-d08da0d34298"
      },
      "id": "CGmMFCcPjNVC",
      "execution_count": 82,
      "outputs": [
        {
          "output_type": "execute_result",
          "data": {
            "text/plain": [
              "dtype('float64')"
            ]
          },
          "metadata": {},
          "execution_count": 82
        }
      ]
    },
    {
      "cell_type": "code",
      "source": [
        "null_sum = np.sum(sentence.isnull())\n",
        "null_sum\n",
        "\n",
        "# this tells us there are 9053 null values"
      ],
      "metadata": {
        "colab": {
          "base_uri": "https://localhost:8080/"
        },
        "id": "czWA1aClja1b",
        "outputId": "5f3112ea-16bd-4ccd-c41e-e4bb047e7573"
      },
      "id": "czWA1aClja1b",
      "execution_count": 83,
      "outputs": [
        {
          "output_type": "execute_result",
          "data": {
            "text/plain": [
              "9053"
            ]
          },
          "metadata": {},
          "execution_count": 83
        }
      ]
    },
    {
      "cell_type": "code",
      "source": [
        "# need to do something about blank values\n",
        "# need to change to value of zero\n",
        "sentence = sentence.replace(np.nan, 0)\n",
        "sentence.head(10)"
      ],
      "metadata": {
        "colab": {
          "base_uri": "https://localhost:8080/"
        },
        "id": "fP3dGNtvmrQp",
        "outputId": "238bf77f-e400-4861-839d-71b6a580fd06"
      },
      "id": "fP3dGNtvmrQp",
      "execution_count": 98,
      "outputs": [
        {
          "output_type": "execute_result",
          "data": {
            "text/plain": [
              "0     0.0\n",
              "1    60.0\n",
              "2     0.0\n",
              "3     0.0\n",
              "4     0.0\n",
              "5    12.0\n",
              "6     0.0\n",
              "7     6.0\n",
              "8     0.0\n",
              "9     0.0\n",
              "Name: ImposedSentenceAllChargeInContactEvent, dtype: float64"
            ]
          },
          "metadata": {},
          "execution_count": 98
        }
      ]
    },
    {
      "cell_type": "code",
      "source": [
        "sentype = pretrial['SentenceTypeAllChargesAtConvictionInContactEvent']\n",
        "sentype.head(6)\n"
      ],
      "metadata": {
        "colab": {
          "base_uri": "https://localhost:8080/"
        },
        "id": "Qsa8h_c9d9sh",
        "outputId": "062dfd25-eb5d-4708-d3cb-f1bf21a43b9a"
      },
      "id": "Qsa8h_c9d9sh",
      "execution_count": 84,
      "outputs": [
        {
          "output_type": "execute_result",
          "data": {
            "text/plain": [
              "0    9\n",
              "1    0\n",
              "2    1\n",
              "3    1\n",
              "4    4\n",
              "5    0\n",
              "Name: SentenceTypeAllChargesAtConvictionInContactEvent, dtype: int64"
            ]
          },
          "metadata": {},
          "execution_count": 84
        }
      ]
    },
    {
      "cell_type": "code",
      "source": [
        "print(pd.crosstab(null_sum, sentype))\n",
        "\n",
        "# according to the codebook:\n",
        "# 1 means \"Probation/no incarceration\"\n",
        "# 4 means \"Other, all charges in cohort contact resulted in pending, dismissed, deferred, etc.\"\n",
        "# 9 means \"Not applicable (e.g., disposition record not found, or unknown)\""
      ],
      "metadata": {
        "colab": {
          "base_uri": "https://localhost:8080/"
        },
        "id": "wv7vOYSmj2lP",
        "outputId": "4bdf09d2-32e7-4d08-ccd9-47de2e062a37"
      },
      "id": "wv7vOYSmj2lP",
      "execution_count": 88,
      "outputs": [
        {
          "output_type": "stream",
          "name": "stdout",
          "text": [
            "SentenceTypeAllChargesAtConvictionInContactEvent     0     1    2     4    9\n",
            "row_0                                                                       \n",
            "9053                                              8720  4299  914  8779  274\n"
          ]
        }
      ]
    },
    {
      "cell_type": "code",
      "source": [
        "# any value \"SentenceTypeAllChargesAtConvictionInContactEven\" that is 1,4 or 9 needs to be changed to 0 (months)\n",
        "# because these individuals did not serve any time\n",
        "sentence = sentence.mask(sentype == 1, 0)\n",
        "sentence = sentence.mask(sentype == 4, 0)\n",
        "sentence = sentence.mask(sentype == 9, 0)"
      ],
      "metadata": {
        "id": "ivQxP0ytloVB"
      },
      "id": "ivQxP0ytloVB",
      "execution_count": 93,
      "outputs": []
    },
    {
      "cell_type": "code",
      "source": [
        "sentence.value_counts()\n",
        "\n",
        "# this is good, more 0's (the count went up to 18305)\n",
        "# all values that were null or had a sentence type that should not have had a sentence greater than 0 months has been changed to 0 months"
      ],
      "metadata": {
        "colab": {
          "base_uri": "https://localhost:8080/"
        },
        "id": "zsY4-JWQl1Lj",
        "outputId": "20375158-a353-4884-c241-cc7c68bd031e"
      },
      "id": "zsY4-JWQl1Lj",
      "execution_count": 99,
      "outputs": [
        {
          "output_type": "execute_result",
          "data": {
            "text/plain": [
              "0.000000      18305\n",
              "0.985626        765\n",
              "12.000000       616\n",
              "3.000000        442\n",
              "6.000000        372\n",
              "              ...  \n",
              "222.000000        1\n",
              "20.000000         1\n",
              "294.000000        1\n",
              "336.000000        1\n",
              "0.459959          1\n",
              "Name: ImposedSentenceAllChargeInContactEvent, Length: 308, dtype: int64"
            ]
          },
          "metadata": {},
          "execution_count": 99
        }
      ]
    },
    {
      "cell_type": "markdown",
      "id": "649494cd-cfd6-4f80-992a-9994fc19e1d5",
      "metadata": {
        "id": "649494cd-cfd6-4f80-992a-9994fc19e1d5"
      },
      "source": [
        "**Q3.** Many important datasets contain a race variable, typically limited to a handful of values often including Black, White, Asian, Latino, and Indigenous. This question looks at data gathering efforts on this variable by the U.S. Federal government.\n",
        "\n",
        "1. How did the most recent US Census gather data on race?\n",
        "2. Why do we gather these data? What role do these kinds of data play in politics and society? Why does data quality matter?\n",
        "3. Please provide a constructive criticism of how the Census was conducted: What was done well? What do you think was missing? How should future large scale surveys be adjusted to best reflect the diversity of the population? Could some of the Census' good practices be adopted more widely to gather richer and more useful data?\n",
        "4. How did the Census gather data on sex and gender? Please provide a similar constructive criticism of their practices.\n",
        "5. When it comes to cleaning data, what concerns do you have about protected characteristics like sex, gender, sexual identity, or race? What challenges can you imagine arising when there are missing values? What good or bad practices might people adopt, and why?\n",
        "6. Suppose someone invented an algorithm to impute values for protected characteristics like race, gender, sex, or sexuality. What kinds of concerns would you have?"
      ]
    }
  ],
  "metadata": {
    "colab": {
      "provenance": []
    },
    "kernelspec": {
      "display_name": "Python 3 (ipykernel)",
      "language": "python",
      "name": "python3"
    },
    "language_info": {
      "codemirror_mode": {
        "name": "ipython",
        "version": 3
      },
      "file_extension": ".py",
      "mimetype": "text/x-python",
      "name": "python",
      "nbconvert_exporter": "python",
      "pygments_lexer": "ipython3",
      "version": "3.10.4"
    }
  },
  "nbformat": 4,
  "nbformat_minor": 5
}